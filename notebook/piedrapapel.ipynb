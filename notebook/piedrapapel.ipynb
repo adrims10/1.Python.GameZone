{
 "cells": [
  {
   "cell_type": "code",
   "execution_count": 2,
   "metadata": {},
   "outputs": [
    {
     "name": "stdout",
     "output_type": "stream",
     "text": [
      "La máquina eligió: spock\n",
      "Gana el jugador 1\n",
      "Victorias del jugador: 1\n",
      "Victorias de la máquina: 0\n",
      "Gana la máquina\n",
      "Victorias del jugador: 1\n",
      "Victorias de la máquina: 1\n"
     ]
    }
   ],
   "source": [
    "import random\n",
    "listaparamaquina = ['piedra', 'papel', 'tijeras', 'lagarto', 'spock']\n",
    "maquina = random.choice(listaparamaquina)\n",
    "print(f\"La máquina eligió: {maquina}\")\n",
    "\n",
    "ganadores = {\n",
    "    'piedra': ['lagarto', 'tijeras'],\n",
    "    'papel': ['piedra', 'spock'],\n",
    "    'tijeras': ['papel', 'lagarto'],\n",
    "    'lagarto': ['spock', 'papel'],\n",
    "    'spock': ['tijeras', 'piedra']\n",
    "}\n",
    "\n",
    "ganajugador = 0\n",
    "ganamaquina = 0\n",
    "\n",
    "while ganajugador < 3 and ganamaquina < 3:\n",
    "\n",
    "    jugador1 = input('¿Piedra, Papel, Tijera, Lagarto, Spock? ').lower()\n",
    "\n",
    "    if jugador1 not in listaparamaquina:\n",
    "        print('Error')\n",
    "        continue\n",
    "  \n",
    "    if jugador1 not in listaparamaquina:\n",
    "        print(\"Opción no válida. Por favor elige entre Piedra, Papel, Tijera, Lagarto, Spock.\")\n",
    "    elif jugador1 == maquina:\n",
    "        print(\"Empate\")\n",
    "    elif maquina in ganadores[jugador1]:\n",
    "        ganajugador += 1\n",
    "        print('Gana el jugador 1')\n",
    "    else:\n",
    "        ganamaquina += 1\n",
    "        print('Gana la máquina')\n",
    "\n",
    "    print(f\"Victorias del jugador: {ganajugador}\")\n",
    "    print(f\"Victorias de la máquina: {ganamaquina}\")\n",
    " \n",
    "if ganajugador == 3:\n",
    "    print(\"¡El jugador 1 ha ganado el juego!\")\n",
    "else:\n",
    "    print(\"¡La máquina ha ganado el juego!\")"
   ]
  },
  {
   "cell_type": "code",
   "execution_count": null,
   "metadata": {},
   "outputs": [],
   "source": []
  }
 ],
 "metadata": {
  "kernelspec": {
   "display_name": "Python 3",
   "language": "python",
   "name": "python3"
  },
  "language_info": {
   "codemirror_mode": {
    "name": "ipython",
    "version": 3
   },
   "file_extension": ".py",
   "mimetype": "text/x-python",
   "name": "python",
   "nbconvert_exporter": "python",
   "pygments_lexer": "ipython3",
   "version": "3.12.6"
  }
 },
 "nbformat": 4,
 "nbformat_minor": 2
}
