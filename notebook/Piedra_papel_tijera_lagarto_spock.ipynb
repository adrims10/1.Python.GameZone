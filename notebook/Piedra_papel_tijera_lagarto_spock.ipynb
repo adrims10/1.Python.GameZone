{
 "cells": [
  {
   "cell_type": "code",
   "execution_count": 2,
   "metadata": {},
   "outputs": [
    {
     "name": "stdout",
     "output_type": "stream",
     "text": [
      "La máquina eligió: papel\n",
      "Gana la máquina\n",
      "Victorias del jugador: 0\n",
      "Victorias de la máquina: 1\n",
      "La máquina eligió: tijeras\n",
      "Gana la máquina\n",
      "Victorias del jugador: 0\n",
      "Victorias de la máquina: 2\n",
      "La máquina eligió: spock\n",
      "Gana la máquina\n",
      "Victorias del jugador: 0\n",
      "Victorias de la máquina: 3\n",
      "¡La máquina ha ganado el juego!\n"
     ]
    }
   ],
   "source": [
    "import random\n",
    "listaparamaquina = ['piedra', 'papel', 'tijeras', 'lagarto', 'spock']\n",
    "\n",
    "ganadores = {\n",
    "    'piedra': ['lagarto', 'tijeras'],\n",
    "    'papel': ['piedra', 'spock'],\n",
    "    'tijeras': ['papel', 'lagarto'],\n",
    "    'lagarto': ['spock', 'papel'],\n",
    "    'spock': ['tijeras', 'piedra']\n",
    "}\n",
    "\n",
    "def juego():\n",
    "    ganajugador = 0\n",
    "    ganamaquina = 0\n",
    "    elecciones_maquina = []\n",
    "\n",
    "    while ganajugador < 3 and ganamaquina < 3:\n",
    "        opciones_disponibles = [opcion for opcion in listaparamaquina if opcion not in elecciones_maquina]\n",
    "        maquina = random.choice(opciones_disponibles)\n",
    "        elecciones_maquina.append(maquina)\n",
    "\n",
    "        jugador1 = input('¿Piedra, Papel, Tijera, Lagarto, Spock? ').lower()\n",
    "\n",
    "        if jugador1 not in listaparamaquina:\n",
    "            print(\"Opción no válida. Por favor elige entre Piedra, Papel, Tijera, Lagarto, Spock.\")\n",
    "            continue\n",
    "\n",
    "        print(f\"La máquina eligió: {maquina}\")\n",
    "\n",
    "        if jugador1 == maquina:\n",
    "            print(\"Empate\")\n",
    "        elif maquina in ganadores[jugador1]:\n",
    "            ganajugador += 1\n",
    "            print('Gana el jugador 1')\n",
    "        else:\n",
    "            ganamaquina += 1\n",
    "            print('Gana la máquina')\n",
    "\n",
    "        print(f\"Victorias del jugador: {ganajugador}\")\n",
    "        print(f\"Victorias de la máquina: {ganamaquina}\")\n",
    "\n",
    "        if len(elecciones_maquina) == len(listaparamaquina):\n",
    "            elecciones_maquina.clear()\n",
    "\n",
    "    if ganajugador == 3:\n",
    "        print(\"¡El jugador 1 ha ganado el juego!\")\n",
    "    else:\n",
    "        print(\"¡La máquina ha ganado el juego!\")\n",
    "\n",
    "if __name__ == \"__main__\":\n",
    "    juego()"
   ]
  }
 ],
 "metadata": {
  "kernelspec": {
   "display_name": "Python 3",
   "language": "python",
   "name": "python3"
  },
  "language_info": {
   "codemirror_mode": {
    "name": "ipython",
    "version": 3
   },
   "file_extension": ".py",
   "mimetype": "text/x-python",
   "name": "python",
   "nbconvert_exporter": "python",
   "pygments_lexer": "ipython3",
   "version": "3.12.6"
  }
 },
 "nbformat": 4,
 "nbformat_minor": 2
}
