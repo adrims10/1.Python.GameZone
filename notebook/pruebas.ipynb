{
 "cells": [
  {
   "cell_type": "code",
   "execution_count": 4,
   "metadata": {},
   "outputs": [
    {
     "name": "stdout",
     "output_type": "stream",
     "text": [
      "Gana el jugador 2\n"
     ]
    }
   ],
   "source": [
    "#Juego del Piedra Papel tijera...\n",
    "\n",
    "mano_Jugador1 = input('¿Piedra,Papel,Tijera,Lagarto,Spock?').lower()\n",
    "mano_Jugador2= input('¿Piedra,Papel,Tijera,Lagarto,Spock?').lower()\n",
    "\n",
    "if mano_Jugador1 == mano_Jugador2:\n",
    "    print('empate')\n",
    "elif mano_Jugador1 == 'piedra' and mano_Jugador2 == 'papel':\n",
    "    print('Gana el jugador 2')\n",
    "\n",
    "\n"
   ]
  },
  {
   "cell_type": "code",
   "execution_count": 1,
   "metadata": {},
   "outputs": [
    {
     "ename": "KeyError",
     "evalue": "'j'",
     "output_type": "error",
     "traceback": [
      "\u001b[1;31m---------------------------------------------------------------------------\u001b[0m",
      "\u001b[1;31mKeyError\u001b[0m                                  Traceback (most recent call last)",
      "Cell \u001b[1;32mIn[1], line 25\u001b[0m\n\u001b[0;32m     21\u001b[0m     \u001b[38;5;28;01melse\u001b[39;00m:\n\u001b[0;32m     22\u001b[0m             \u001b[38;5;28mprint\u001b[39m(\u001b[38;5;124m\"\u001b[39m\u001b[38;5;124mGana maquina\u001b[39m\u001b[38;5;124m\"\u001b[39m)\n\u001b[1;32m---> 25\u001b[0m \u001b[43mdeterminar_ganador\u001b[49m\u001b[43m(\u001b[49m\u001b[43mjugador1\u001b[49m\u001b[43m,\u001b[49m\u001b[43meleccionmaquina\u001b[49m\u001b[43m)\u001b[49m\n",
      "Cell \u001b[1;32mIn[1], line 19\u001b[0m, in \u001b[0;36mdeterminar_ganador\u001b[1;34m(jugador1, eleccionmaquina)\u001b[0m\n\u001b[0;32m     17\u001b[0m \u001b[38;5;28;01mif\u001b[39;00m jugador1 \u001b[38;5;241m==\u001b[39m eleccionmaquina:\n\u001b[0;32m     18\u001b[0m         \u001b[38;5;28mprint\u001b[39m(\u001b[38;5;124m\"\u001b[39m\u001b[38;5;124mempate\u001b[39m\u001b[38;5;124m\"\u001b[39m)\n\u001b[1;32m---> 19\u001b[0m \u001b[38;5;28;01melif\u001b[39;00m   eleccionmaquina \u001b[38;5;129;01min\u001b[39;00m \u001b[43mganadores\u001b[49m\u001b[43m[\u001b[49m\u001b[43mjugador1\u001b[49m\u001b[43m]\u001b[49m:\n\u001b[0;32m     20\u001b[0m         \u001b[38;5;28mprint\u001b[39m(\u001b[38;5;124m\"\u001b[39m\u001b[38;5;124mGana jugador1\u001b[39m\u001b[38;5;124m\"\u001b[39m)\n\u001b[0;32m     21\u001b[0m \u001b[38;5;28;01melse\u001b[39;00m:\n",
      "\u001b[1;31mKeyError\u001b[0m: 'j'"
     ]
    }
   ],
   "source": [
    "import random\n",
    "jugador1 = input('¿Piedra,Papel,Tijera,Lagarto,Spock?').lower()\n",
    "maquina=['piedra','papel','tijeras','lagarto','spock']\n",
    "eleccionmaquina= random.choice(maquina)\n",
    "\n",
    "ganadores={'piedra':['lagarto','tijera'],\n",
    "           'papel':['piedra','spock'],\n",
    "            'tijeras':['papel','lagarto'],\n",
    "            'lagarto':['spock','papel'],\n",
    "            'spock':['tijeras','piedra']}\n",
    "\n",
    "\n",
    "contador_vistorias_jugador = 0\n",
    "contador_victorias_maquina = 0\n",
    "\n",
    "def determinar_ganador(jugador1,eleccionmaquina):\n",
    "    if jugador1 == eleccionmaquina:\n",
    "            print(\"empate\")\n",
    "    elif   eleccionmaquina in ganadores[jugador1]:\n",
    "            print(\"Gana jugador1\")\n",
    "    else:\n",
    "            print(\"Gana maquina\")\n",
    "\n",
    "\n",
    "determinar_ganador(jugador1,eleccionmaquina)\n"
   ]
  },
  {
   "cell_type": "code",
   "execution_count": 6,
   "metadata": {},
   "outputs": [
    {
     "ename": "NameError",
     "evalue": "name 'tablero' is not defined",
     "output_type": "error",
     "traceback": [
      "\u001b[1;31m---------------------------------------------------------------------------\u001b[0m",
      "\u001b[1;31mNameError\u001b[0m                                 Traceback (most recent call last)",
      "Cell \u001b[1;32mIn[6], line 8\u001b[0m\n\u001b[0;32m      6\u001b[0m     \u001b[38;5;28mprint\u001b[39m(\u001b[38;5;124m\"\u001b[39m\u001b[38;5;130;01m\\n\u001b[39;00m\u001b[38;5;124m\"\u001b[39m)\n\u001b[0;32m      7\u001b[0m     \u001b[38;5;28;01mreturn\u001b[39;00m patron_tablero(tablero)\n\u001b[1;32m----> 8\u001b[0m patron_tablero(\u001b[43mtablero\u001b[49m)\n",
      "\u001b[1;31mNameError\u001b[0m: name 'tablero' is not defined"
     ]
    }
   ],
   "source": [
    "def patron_tablero(tablero):\n",
    "    print(\"\\n\")\n",
    "    for fila in tablero:\n",
    "        print(\"           | \".join(fila))\n",
    "        print(\"-----\" * 9)\n",
    "    print(\"\\n\")\n",
    "    return patron_tablero(tablero)\n"
   ]
  },
  {
   "cell_type": "code",
   "execution_count": 13,
   "metadata": {},
   "outputs": [
    {
     "ename": "NameError",
     "evalue": "name 'self' is not defined",
     "output_type": "error",
     "traceback": [
      "\u001b[1;31m---------------------------------------------------------------------------\u001b[0m",
      "\u001b[1;31mNameError\u001b[0m                                 Traceback (most recent call last)",
      "Cell \u001b[1;32mIn[13], line 3\u001b[0m\n\u001b[0;32m      1\u001b[0m \u001b[38;5;28;01mimport\u001b[39;00m \u001b[38;5;21;01mrandom\u001b[39;00m\n\u001b[1;32m----> 3\u001b[0m \u001b[38;5;28;43;01mclass\u001b[39;49;00m\u001b[43m \u001b[49m\u001b[38;5;21;43;01mAhorcado\u001b[39;49;00m\u001b[43m:\u001b[49m\n\u001b[0;32m      4\u001b[0m \u001b[43m    \u001b[49m\u001b[38;5;28;43;01mdef\u001b[39;49;00m\u001b[43m \u001b[49m\u001b[38;5;21;43m__init__\u001b[39;49m\u001b[43m(\u001b[49m\u001b[38;5;28;43mself\u001b[39;49m\u001b[43m)\u001b[49m\u001b[43m:\u001b[49m\u001b[43m                                                     \u001b[49m\u001b[38;5;66;43;03m## incicianos la clase pero no metemos variables permanentes\u001b[39;49;00m\n\u001b[0;32m      5\u001b[0m \u001b[43m        \u001b[49m\u001b[38;5;28;43mself\u001b[39;49m\u001b[38;5;241;43m.\u001b[39;49m\u001b[43mpalabras\u001b[49m\u001b[43m \u001b[49m\u001b[38;5;241;43m=\u001b[39;49m\u001b[43m \u001b[49m\u001b[43m[\u001b[49m\u001b[38;5;124;43m'\u001b[39;49m\u001b[38;5;124;43mhackio\u001b[39;49m\u001b[38;5;124;43m'\u001b[39;49m\u001b[43m,\u001b[49m\u001b[38;5;124;43m'\u001b[39;49m\u001b[38;5;124;43mprogramacion\u001b[39;49m\u001b[38;5;124;43m'\u001b[39;49m\u001b[43m,\u001b[49m\u001b[38;5;124;43m'\u001b[39;49m\u001b[38;5;124;43mfrustrado\u001b[39;49m\u001b[38;5;124;43m'\u001b[39;49m\u001b[43m]\u001b[49m\n",
      "Cell \u001b[1;32mIn[13], line 15\u001b[0m, in \u001b[0;36mAhorcado\u001b[1;34m()\u001b[0m\n\u001b[0;32m     13\u001b[0m \u001b[38;5;28;01mdef\u001b[39;00m \u001b[38;5;21mmostrar_estado\u001b[39m(\u001b[38;5;28mself\u001b[39m):\n\u001b[0;32m     14\u001b[0m     \u001b[38;5;28;01mreturn\u001b[39;00m \u001b[38;5;124m'\u001b[39m\u001b[38;5;124m'\u001b[39m\u001b[38;5;241m.\u001b[39mjoin(letra \u001b[38;5;28;01mif\u001b[39;00m letra \u001b[38;5;129;01min\u001b[39;00m \u001b[38;5;28mself\u001b[39m\u001b[38;5;241m.\u001b[39mletras_adivinadas \u001b[38;5;28;01melse\u001b[39;00m \u001b[38;5;124m'\u001b[39m\u001b[38;5;124m_\u001b[39m\u001b[38;5;124m'\u001b[39m \u001b[38;5;28;01mfor\u001b[39;00m letra \u001b[38;5;129;01min\u001b[39;00m \u001b[38;5;28mself\u001b[39m\u001b[38;5;241m.\u001b[39mpalabra)\n\u001b[1;32m---> 15\u001b[0m \u001b[38;5;28mprint\u001b[39m(\u001b[38;5;124m'\u001b[39m\u001b[38;5;124m'\u001b[39m\u001b[38;5;241m.\u001b[39mjoin(letra \u001b[38;5;28;01mif\u001b[39;00m letra \u001b[38;5;129;01min\u001b[39;00m \u001b[38;5;28mself\u001b[39m\u001b[38;5;241m.\u001b[39mletras_adivinadas \u001b[38;5;28;01melse\u001b[39;00m \u001b[38;5;124m'\u001b[39m\u001b[38;5;124m_\u001b[39m\u001b[38;5;124m'\u001b[39m \u001b[38;5;28;01mfor\u001b[39;00m letra \u001b[38;5;129;01min\u001b[39;00m \u001b[38;5;28;43mself\u001b[39;49m\u001b[38;5;241m.\u001b[39mpalabra))\n",
      "\u001b[1;31mNameError\u001b[0m: name 'self' is not defined"
     ]
    }
   ],
   "source": [
    "import random\n",
    "\n",
    "class Ahorcado:\n",
    "    def __init__(self):                                                     ## incicianos la clase pero no metemos variables permanentes\n",
    "        self.palabras = ['hackio','programacion','frustrado']\n",
    "        self.palabra = self.elegir_palabra()\n",
    "        self.letras_adivinadas = set()\n",
    "        self.intentos_restantes = 10\n",
    "\n",
    "    def elegir_palabra(self):\n",
    "        return random.choice(self.palabras)\n",
    "\n",
    "    def mostrar_estado(self):\n",
    "        return ''.join(letra if letra in self.letras_adivinadas else '_' for letra in self.palabra)\n",
    "    print(''.join(letra if letra in self.letras_adivinadas else '_' for letra in self.palabra))"
   ]
  }
 ],
 "metadata": {
  "kernelspec": {
   "display_name": "Python 3",
   "language": "python",
   "name": "python3"
  },
  "language_info": {
   "codemirror_mode": {
    "name": "ipython",
    "version": 3
   },
   "file_extension": ".py",
   "mimetype": "text/x-python",
   "name": "python",
   "nbconvert_exporter": "python",
   "pygments_lexer": "ipython3",
   "version": "3.12.6"
  }
 },
 "nbformat": 4,
 "nbformat_minor": 2
}
