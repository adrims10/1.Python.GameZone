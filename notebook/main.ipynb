{
 "cells": [
  {
   "cell_type": "code",
   "execution_count": 4,
   "metadata": {},
   "outputs": [
    {
     "ename": "ModuleNotFoundError",
     "evalue": "No module named 'src'",
     "output_type": "error",
     "traceback": [
      "\u001b[1;31m---------------------------------------------------------------------------\u001b[0m",
      "\u001b[1;31mModuleNotFoundError\u001b[0m                       Traceback (most recent call last)",
      "Cell \u001b[1;32mIn[4], line 1\u001b[0m\n\u001b[1;32m----> 1\u001b[0m \u001b[38;5;28;01mfrom\u001b[39;00m \u001b[38;5;21;01msrc\u001b[39;00m \u001b[38;5;28;01mimport\u001b[39;00m Piedra_papel_tijeras_lagarto_spock\n\u001b[0;32m      2\u001b[0m \u001b[38;5;28;01mfrom\u001b[39;00m \u001b[38;5;21;01msrc\u001b[39;00m \u001b[38;5;28;01mimport\u001b[39;00m ahorcado\n\u001b[0;32m      3\u001b[0m \u001b[38;5;28;01mfrom\u001b[39;00m \u001b[38;5;21;01msrc\u001b[39;00m \u001b[38;5;28;01mimport\u001b[39;00m Quiz\n",
      "\u001b[1;31mModuleNotFoundError\u001b[0m: No module named 'src'"
     ]
    }
   ],
   "source": [
    "from src import Piedra_papel_tijeras_lagarto_spock\n",
    "from src import ahorcado\n",
    "from src import Quiz\n",
    "from src import Tres_Raya\n",
    "\n",
    "def menu():\n",
    "    print(\"╔══════════════════════════╗\")\n",
    "    print(\"║    MENÚ PRINCIPAL        ║\")\n",
    "    print(\"╠════════════════════════════════════════════╣\")\n",
    "    print(\"║ 1. Piedra Papel Tijera Lagarto Spock       ║\")\n",
    "    print(\"║ 2. Ahorcado                                ║\")\n",
    "    print(\"║ 3. Quiz                                    ║\")\n",
    "    print(\"║ 4. Tres en Raya                            ║\")\n",
    "    print(\"║ 5. Salir                                   ║\")\n",
    "    print(\"╚════════════════════════════════════════════╝\")\n",
    "\n",
    "\n",
    "def main():\n",
    "    \n",
    "    while True:\n",
    "        menu()\n",
    "        try:\n",
    "            juego = int(input(\"Selecciona un juego: \"))\n",
    "        \n",
    "            if juego == 5:\n",
    "                print(\"Gracias por jugar con nosotros, hasta pronto.\")\n",
    "                break\n",
    "\n",
    "            elif juego == 1:\n",
    "                seleccion = Piedra_papel_tijeras_lagarto_spock.inicio_Piedra_papel_tijeras_lagarto_spock()\n",
    "\n",
    "            elif juego == 2:\n",
    "                seleccion = ahorcado.inicio_ahorcado()\n",
    "\n",
    "            elif juego == 3:\n",
    "                seleccion = Quiz.inicio_Quiz()\n",
    "\n",
    "            elif juego == 4:\n",
    "                seleccion = Tres_Raya.inicio_Tres_Raya()\n",
    "\n",
    "\n",
    "            else:\n",
    "                print(\"\\nPor favor ingrese un número entre 1 y 5.\")\n",
    "\n",
    "            if seleccion == 5:\n",
    "                    print(\"Gracias por jugar con nosotros, hasta pronto.\\n\")\n",
    "                    break\n",
    "\n",
    "        except ValueError:\n",
    "            print(\"Por favor ingrese un número entre 1 y 5.\\n\")\n",
    "            main()\n",
    "\n",
    "\n",
    "\n",
    "if __name__ == \"__main__\":\n",
    "    main()"
   ]
  }
 ],
 "metadata": {
  "kernelspec": {
   "display_name": "Python 3",
   "language": "python",
   "name": "python3"
  },
  "language_info": {
   "codemirror_mode": {
    "name": "ipython",
    "version": 3
   },
   "file_extension": ".py",
   "mimetype": "text/x-python",
   "name": "python",
   "nbconvert_exporter": "python",
   "pygments_lexer": "ipython3",
   "version": "3.12.6"
  }
 },
 "nbformat": 4,
 "nbformat_minor": 2
}
