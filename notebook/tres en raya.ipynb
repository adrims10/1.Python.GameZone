def imprimir_tablero(tablero):
    print("\n")
    for fila in tablero:
        print(" | ".join(fila))
        print("-" * 9)
    print("\n")

def verificar_ganador(tablero):
    # Verificar filas, columnas y diagonales
    for fila in tablero:
        if fila[0] == fila[1] == fila[2] != ' ':
            return fila[0]
    
    for col in range(3):
        if tablero[0][col] == tablero[1][col] == tablero[2][col] != ' ':
            return tablero[0][col]
    
    if tablero[0][0] == tablero[1][1] == tablero[2][2] != ' ':
        return tablero[0][0]
    
    if tablero[0][2] == tablero[1][1] == tablero[2][0] != ' ':
        return tablero[0][2]
    
    return None

def juego_tres_en_raya():
    tablero = [[' ' for _ in range(3)] for _ in range(3)]
    jugadores = ['X', 'O']
    turno = 0
    movimientos = 0

    while movimientos < 9:
        imprimir_tablero(tablero)
        jugador_actual = jugadores[turno % 2]
        print(f"Turno del jugador {jugador_actual}. Elige una fila y columna (0, 1 o 2):")
        
        fila = int(input("Fila: "))
        col = int(input("Columna: "))
        
        if fila < 0 or fila > 2 or col < 0 or col > 2 or tablero[fila][col] != ' ':
            print("Movimiento inválido. Intenta de nuevo.")
            continue
        
        tablero[fila][col] = jugador_actual
        movimientos += 1
        
        ganador = verificar_ganador(tablero)
        if ganador:
            imprimir_tablero(tablero)
            print(f"¡El jugador {ganador} ha ganado!")
            return
        
        turno += 1

    imprimir_tablero(tablero)
    print("¡Es un empate!")

if __name__ == "__main__":
    juego_tres_en_raya()